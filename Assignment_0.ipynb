{
 "cells": [
  {
   "cell_type": "code",
   "execution_count": 1,
   "metadata": {},
   "outputs": [],
   "source": [
    "from bs4 import BeautifulSoup\n",
    "import pandas as pd\n",
    "import re\n",
    "import os"
   ]
  },
  {
   "cell_type": "code",
   "execution_count": 2,
   "metadata": {},
   "outputs": [],
   "source": [
    "# Function to extract the title and trackdata from HTML files.\n",
    "def html_parser (input:str, output:str):\n",
    "    # Initialize a list to collect data for all files\n",
    "    all_data = []\n",
    "\n",
    "    # Loop through all files in the directory\n",
    "    for file_name in os.listdir(input):\n",
    "        if file_name.endswith(\".html\"):  # Process only HTML files\n",
    "            file_path = os.path.join(input, file_name)\n",
    "\n",
    "            # Open and process each file\n",
    "            with open(file_path, \"r\", encoding=\"utf-8\") as file:\n",
    "                soup = BeautifulSoup(file, \"html.parser\")\n",
    "            \n",
    "            # Extract the title\n",
    "            title = soup.title.string if soup.title else \"No title\"\n",
    "\n",
    "            # Trackdata pattern\n",
    "            trackdata_pattern = re.compile(r\"var trackData = {(.*?)};\", re.DOTALL)\n",
    "            track_data = \"\"\n",
    "\n",
    "            # Extract trackData from <script> tags\n",
    "            for script in soup.find_all(\"script\"):\n",
    "                match = trackdata_pattern.search(script.string if script.string else \"\")\n",
    "                if match:\n",
    "                    track_data = match.group(1)\n",
    "                    break\n",
    "\n",
    "            # Convert trackData to a dictionary\n",
    "            if track_data:\n",
    "                track_data_dict = {}\n",
    "                for item in track_data.split(\",\"):\n",
    "                    key_value = item.split(\":\")\n",
    "                    if len(key_value) == 2:\n",
    "                        key = key_value[0].strip().strip('\"')\n",
    "                        value = key_value[1].strip().strip('\"').strip()\n",
    "                        track_data_dict[key] = value\n",
    "            else:\n",
    "                track_data_dict = {}\n",
    "            \n",
    "            data = {\"Title\": title}\n",
    "            data.update(track_data_dict)\n",
    "\n",
    "            # Append the data to the list\n",
    "            all_data.append(data)\n",
    "\n",
    "    # Create a DataFrame from the collected data\n",
    "    df = pd.DataFrame(all_data)\n",
    "\n",
    "    # Save the DataFrame to a CSV file\n",
    "    try:\n",
    "        df.to_excel(output, index=False)\n",
    "    except Exception as ex:\n",
    "        print(f\"Error saving file: {ex}\")\n",
    "    else:\n",
    "        print(f\"Data extracted and saved to {output}\")"
   ]
  },
  {
   "cell_type": "code",
   "execution_count": null,
   "metadata": {},
   "outputs": [],
   "source": [
    "# Directory containing multiple HTML files\n",
    "input_dir = \"/home/raghava/Projects/Bigdata_class/Input_data/\"\n",
    "\n",
    "# Output file location\n",
    "output_file = \"/home/raghava/Projects/Bigdata_class/Output_data/output.xlsx\"\n",
    "\n",
    "# html_parser function calling\n",
    "html_parser(input= input_dir, output= output_file)"
   ]
  }
 ],
 "metadata": {
  "kernelspec": {
   "display_name": "Python 3",
   "language": "python",
   "name": "python3"
  },
  "language_info": {
   "codemirror_mode": {
    "name": "ipython",
    "version": 3
   },
   "file_extension": ".py",
   "mimetype": "text/x-python",
   "name": "python",
   "nbconvert_exporter": "python",
   "pygments_lexer": "ipython3",
   "version": "3.10.12"
  }
 },
 "nbformat": 4,
 "nbformat_minor": 2
}
